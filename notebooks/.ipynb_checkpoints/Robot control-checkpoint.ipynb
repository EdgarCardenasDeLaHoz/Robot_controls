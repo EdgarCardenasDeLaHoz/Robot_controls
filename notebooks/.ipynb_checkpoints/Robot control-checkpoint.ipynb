{
 "cells": [
  {
   "cell_type": "code",
   "execution_count": 1,
   "metadata": {},
   "outputs": [],
   "source": [
    "#%load_ext line_profiler\n",
    "import os \n",
    "\n",
    "os.chdir(\"..\")\n",
    "\n",
    "%load_ext line_profiler\n",
    "%load_ext autoreload\n",
    "%autoreload 2"
   ]
  },
  {
   "cell_type": "code",
   "execution_count": 2,
   "metadata": {},
   "outputs": [],
   "source": [
    "import numpy as np \n",
    "import serial\n",
    "import serial.tools.list_ports as port_list\n",
    "import matplotlib.pyplot as plt \n",
    "%matplotlib qt"
   ]
  },
  {
   "cell_type": "markdown",
   "metadata": {},
   "source": [
    "## Hanging Robot "
   ]
  },
  {
   "cell_type": "code",
   "execution_count": 3,
   "metadata": {},
   "outputs": [],
   "source": [
    "from robot_controls import * \n",
    "#from Camera import *"
   ]
  },
  {
   "cell_type": "markdown",
   "metadata": {},
   "source": [
    "GUI = control_gui(\"Art\")"
   ]
  },
  {
   "cell_type": "code",
   "execution_count": 4,
   "metadata": {
    "scrolled": true
   },
   "outputs": [
    {
     "name": "stdout",
     "output_type": "stream",
     "text": [
      "['COM6']\n",
      ".\n",
      "trying COM6 .............Device Info: Robotic Arm\n",
      "Robotic Arm ...Port Found:  COM6\n",
      "\n",
      "[[ 10. 400.   0.]\n",
      " [ 10. 400. 350.]\n",
      " [310. 400. 350.]\n",
      " [310. 400. 279.]\n",
      " [269. 400. 279.]\n",
      " [269. 400.  49.]\n",
      " [ 89. 400.  49.]]\n",
      "[]\n",
      "[]\n",
      "[]\n",
      "[b'moving -28091.14 degrees\\r\\n', b'moving -1244.54 degrees\\r\\n', b'moving 1066.75 degrees\\r\\n']\n",
      "-136.60647393085713 104.30804999210645 102.03651584899069\n",
      "[]\n",
      "[b'moving -2044.61 degrees\\r\\n', b'moving 622.27 degrees\\r\\n', b'moving -444.48 degrees\\r\\n']\n",
      "-160.56707102328113 97.00807654152219 96.46110408363296\n",
      "[]\n",
      "[b'moving 266.69 degrees\\r\\n', b'moving 1689.02 degrees\\r\\n', b'moving 4178.11 degrees\\r\\n']\n",
      "-156.84415088822595 77.37246171029201 143.81122397511334\n",
      "[]\n",
      "[b'moving 711.17 degrees\\r\\n', b'moving -888.96 degrees\\r\\n', b'moving 888.96 degrees\\r\\n']\n",
      "-148.52967117546197 87.84245489674176 153.8141551965052\n",
      "[]\n",
      "[b'moving -800.06 degrees\\r\\n', b'moving -533.38 degrees\\r\\n', b'moving -2044.61 degrees\\r\\n']\n",
      "-157.7143294931583 94.46763805190538 130.1660182860466\n",
      "[]\n",
      "[b'moving -444.48 degrees\\r\\n', b'moving 355.58 degrees\\r\\n', b'moving -2844.67 degrees\\r\\n']\n",
      "-162.87856823861577 90.33833156978875 98.00564917448285\n",
      "[]\n",
      "[b'moving 2933.57 degrees\\r\\n', b'moving 355.58 degrees\\r\\n', b'moving -355.58 degrees\\r\\n']\n",
      "-128.9196047960777 85.90914748268267 93.38958221141806\n"
     ]
    }
   ],
   "source": [
    "GUI = control_gui(\"Art\")\n",
    "                "
   ]
  },
  {
   "cell_type": "code",
   "execution_count": null,
   "metadata": {},
   "outputs": [],
   "source": []
  },
  {
   "cell_type": "code",
   "execution_count": 7,
   "metadata": {},
   "outputs": [
    {
     "data": {
      "text/plain": [
       "Serial<id=0x1fcbe38c160, open=False>(port='COM7', baudrate=9600, bytesize=8, parity='N', stopbits=1, timeout=0.1, xonxoff=False, rtscts=False, dsrdtr=False)"
      ]
     },
     "execution_count": 7,
     "metadata": {},
     "output_type": "execute_result"
    }
   ],
   "source": [
    "GUI.motors.device"
   ]
  },
  {
   "cell_type": "code",
   "execution_count": 6,
   "metadata": {
    "scrolled": false
   },
   "outputs": [
    {
     "ename": "NameError",
     "evalue": "name 'camid' is not defined",
     "output_type": "error",
     "traceback": [
      "\u001b[1;31m---------------------------------------------------------------------------\u001b[0m",
      "\u001b[1;31mNameError\u001b[0m                                 Traceback (most recent call last)",
      "\u001b[1;32m<ipython-input-6-81599743f383>\u001b[0m in \u001b[0;36m<module>\u001b[1;34m\u001b[0m\n\u001b[1;32m----> 1\u001b[1;33m \u001b[0mGUI\u001b[0m \u001b[1;33m=\u001b[0m \u001b[0mcontrol_gui\u001b[0m\u001b[1;33m(\u001b[0m\u001b[1;34m\"Art\"\u001b[0m\u001b[1;33m,\u001b[0m \u001b[0mcameras\u001b[0m \u001b[1;33m=\u001b[0m \u001b[0mcamid\u001b[0m\u001b[1;33m)\u001b[0m\u001b[1;33m\u001b[0m\u001b[1;33m\u001b[0m\u001b[0m\n\u001b[0m",
      "\u001b[1;31mNameError\u001b[0m: name 'camid' is not defined"
     ]
    }
   ],
   "source": [
    "GUI = control_gui(\"Art\", cameras = camid)"
   ]
  },
  {
   "cell_type": "code",
   "execution_count": 5,
   "metadata": {},
   "outputs": [
    {
     "name": "stdout",
     "output_type": "stream",
     "text": [
      "List of devices connected on com ports:  [<serial.tools.list_ports_common.ListPortInfo object at 0x0000010DF00E8A90>]\n",
      "['COM8']\n",
      "Hopefully information on the devices attached to the com ports:  []\n"
     ]
    }
   ],
   "source": [
    "import serial.tools.list_ports\n",
    "\n",
    "# Clears lists\n",
    "all_ports = []\n",
    "comPorts = []\n",
    "comPorts2 = []\n",
    "\n",
    "# Fills lists with info\n",
    "all_ports = list(port_list.comports())\n",
    "comPorts = list(serial.tools.list_ports.comports())\n",
    "#comPorts2 = list(serial.tools.list_ports.ListPortInfo)\n",
    "\n",
    "# Prints info\n",
    "print (\"List of devices connected on com ports: \" ,comPorts)\n",
    "print([comport.device for comport in serial.tools.list_ports.comports()])\n",
    "print(\"Hopefully information on the devices attached to the com ports: \", comPorts2)"
   ]
  },
  {
   "cell_type": "code",
   "execution_count": 13,
   "metadata": {},
   "outputs": [
    {
     "name": "stdout",
     "output_type": "stream",
     "text": [
      "['COM7']\n"
     ]
    }
   ],
   "source": [
    "all_ports = list(port_list.comports())\n",
    "pos_ports = [p.device for p in all_ports]\n",
    "print(pos_ports)"
   ]
  },
  {
   "cell_type": "code",
   "execution_count": null,
   "metadata": {},
   "outputs": [],
   "source": [
    "#finding device id\n",
    "import win32com.client\n",
    "\n",
    " \n",
    "\n",
    "wmi = win32com.client.GetObject (\"winmgmts:\")\n",
    "for usb in wmi.InstancesOf (\"Win32_USBHub\"):\n",
    "    print(usb.DeviceID)"
   ]
  },
  {
   "cell_type": "code",
   "execution_count": null,
   "metadata": {},
   "outputs": [],
   "source": []
  },
  {
   "cell_type": "code",
   "execution_count": null,
   "metadata": {},
   "outputs": [],
   "source": [
    "# importing libraries\n",
    "import cv2\n",
    "import numpy as np\n",
    "\n",
    "# Create a VideoCapture object and read from input file\n",
    "cap = cv2.VideoCapture(0)\n",
    "\n",
    "# Check if camera opened successfully\n",
    "if (cap.isOpened()== False):\n",
    "    print(\"Error opening video file\")\n",
    "\n",
    "# Read until video is completed\n",
    "while(cap.isOpened()):\n",
    "\n",
    "    # Capture frame-by-frame\n",
    "    ret, frame = cap.read()\n",
    "    if ret == True:\n",
    "\n",
    "        # Display the resulting frame\n",
    "        cv2.imshow('Frame', frame)\n",
    "    \n",
    "        # Press Q on keyboard to exit\n",
    "        if cv2.waitKey(25) & 0xFF == ord('q'):\n",
    "            break\n",
    "\n",
    "# Break the loop\n",
    "    else:\n",
    "        break\n",
    "\n",
    "# When everything done, release\n",
    "# the video capture object\n",
    "cap.release()\n",
    "\n",
    "# Closes all the frames\n",
    "cv2.destroyAllWindows()\n"
   ]
  },
  {
   "cell_type": "code",
   "execution_count": null,
   "metadata": {},
   "outputs": [],
   "source": []
  },
  {
   "cell_type": "code",
   "execution_count": null,
   "metadata": {},
   "outputs": [],
   "source": [
    "GUI.motors.device.close()"
   ]
  },
  {
   "cell_type": "code",
   "execution_count": null,
   "metadata": {},
   "outputs": [],
   "source": [
    "GUI.motors.read_info()"
   ]
  },
  {
   "cell_type": "code",
   "execution_count": null,
   "metadata": {},
   "outputs": [],
   "source": [
    "GUI.run_commands(commands)"
   ]
  },
  {
   "cell_type": "markdown",
   "metadata": {},
   "source": [
    "## Running Commands"
   ]
  },
  {
   "cell_type": "code",
   "execution_count": null,
   "metadata": {},
   "outputs": [],
   "source": [
    "commands = []\n",
    "\n",
    "p0 = GUI.get_position()\n",
    "for i in range(100):\n",
    "    \n",
    "    p1 = p0 + np.array([0,0,50])*np.sin(np.pi*i/10)\n",
    "    p1 = p1 + np.array([30,0,0])*np.sin(np.pi*i/10)\n",
    "    p1 = p1 + np.array([0,30,0])*np.sin(np.pi*i/10)\n",
    "    \n",
    "    command = p1\n",
    "    commands.append(command)\n",
    "\n",
    "GUI.run_commands( commands )\n"
   ]
  },
  {
   "cell_type": "code",
   "execution_count": null,
   "metadata": {},
   "outputs": [],
   "source": [
    "#Commands from camera \n",
    "robot_model = torch.load('.\\\\models\\\\robot_noise_2.pt',map_location=torch.device('cpu'))\n",
    "mouse_model = torch.load('.\\\\models\\\\robot_mouse_2.pt',map_location=torch.device('cpu'))\n",
    "\n",
    "img = CameraConnection.getNextFrame()\n",
    "print(img)\n",
    "cv2.imshow('img',img)\n",
    "commands = []\n",
    "folder = 'Test images/Robotarm noise'\n",
    "filename_top = \"41.jpg\"\n",
    "top = cv2.imread(\"./\" + folder + \"/\" + filename_top)\n",
    "filename_side = \"32B.jpg\"\n",
    "side = cv2.imread(\"./\" + folder + \"/\" + filename_side)\n",
    "x,y,z = recon_3D(robot_model, side, top)\n",
    "p0 = GUI.get_position_camera(robot_model,side,top)\n",
    "print(p0)\n",
    "for i in range(100):\n",
    "    \n",
    "    p1 = p0 + np.array([0,0,50])*np.sin(np.pi*i/10)\n",
    "    p1 = p1 + np.array([30,0,0])*np.sin(np.pi*i/10)\n",
    "    p1 = p1 + np.array([0,30,0])*np.sin(np.pi*i/10)\n",
    "    \n",
    "    command = p1\n",
    "    commands.append(command)\n",
    "\n",
    "GUI.run_commands( commands )\n"
   ]
  },
  {
   "cell_type": "code",
   "execution_count": null,
   "metadata": {},
   "outputs": [],
   "source": [
    "GUI.command_queue"
   ]
  },
  {
   "cell_type": "markdown",
   "metadata": {},
   "source": [
    "## SCARA"
   ]
  },
  {
   "cell_type": "code",
   "execution_count": null,
   "metadata": {},
   "outputs": [],
   "source": [
    "#from robot_controls import * \n",
    "from Camera import *"
   ]
  },
  {
   "cell_type": "code",
   "execution_count": null,
   "metadata": {},
   "outputs": [],
   "source": [
    "rob = Scara()"
   ]
  },
  {
   "cell_type": "code",
   "execution_count": null,
   "metadata": {},
   "outputs": [],
   "source": []
  },
  {
   "cell_type": "code",
   "execution_count": null,
   "metadata": {},
   "outputs": [],
   "source": [
    "import os\n",
    "import numpy as np\n",
    "import cv2\n",
    "import time \n",
    "from datetime import datetime\n",
    "\n",
    "def record_video(cam_id=0, record=True, outdir=None ):\n",
    "    \n",
    "    cap = cv2.VideoCapture(cam_id)\n",
    "    fourcc = cv2.VideoWriter_fourcc(*'mp4v')\n",
    "    \n",
    "    if record:\n",
    "        \n",
    "        if outdir is None: outdir=\"..\\\\Camera_Out\\\\\"\n",
    "        if not os.path.exists(outdir):  os.makedirs(outdir )\n",
    "        timestr = datetime.now().strftime(\"%Y%m%d_%H%M%S\")\n",
    "        fn_out = outdir + \"\\\\\" + timestr + \".mp4\"\n",
    "        out = cv2.VideoWriter(fn_out,fourcc, 20.0, (640,480))\n",
    "        \n",
    "    else: out=None\n",
    "\n",
    "    while(cap.isOpened()):\n",
    "        ret, frame = cap.read()\n",
    "        if ret==True:\n",
    "            cv2.imshow('frame',frame)\n",
    "            if out is not None: out.write(frame)\n",
    "            if cv2.waitKey(1) & 0xFF == ord('q'): break\n",
    "        else: break\n",
    "\n",
    "    if out: out.release()\n",
    "    cap.release()\n",
    "    cv2.destroyAllWindows()\n",
    "    "
   ]
  },
  {
   "cell_type": "code",
   "execution_count": null,
   "metadata": {},
   "outputs": [],
   "source": [
    "record_video(cam_id=1)"
   ]
  },
  {
   "cell_type": "markdown",
   "metadata": {},
   "source": [
    "## Camera Controls"
   ]
  },
  {
   "cell_type": "code",
   "execution_count": null,
   "metadata": {},
   "outputs": [],
   "source": [
    "cam=Camera(0)"
   ]
  },
  {
   "cell_type": "markdown",
   "metadata": {},
   "source": [
    "## Testing"
   ]
  },
  {
   "cell_type": "code",
   "execution_count": null,
   "metadata": {},
   "outputs": [],
   "source": [
    "all_ports = list(port_list.comports())\n",
    "pos_ports = [p.device for p in all_ports  if \"Arduino\" in p.description]"
   ]
  },
  {
   "cell_type": "code",
   "execution_count": null,
   "metadata": {},
   "outputs": [],
   "source": [
    "[print(port) for port in all_ports ]"
   ]
  },
  {
   "cell_type": "code",
   "execution_count": null,
   "metadata": {},
   "outputs": [],
   "source": [
    "rob_mod.fig = None"
   ]
  },
  {
   "cell_type": "code",
   "execution_count": null,
   "metadata": {},
   "outputs": [],
   "source": [
    "\n",
    "rob_mod.motor_rotation = [0,0,0,135,60,60]\n",
    "rob_mod.compute_forward()\n",
    "print(rob_mod.motor_rotation)\n",
    "print(rob_mod.joint_pos)\n",
    "rob_mod.draw_model()"
   ]
  },
  {
   "cell_type": "code",
   "execution_count": null,
   "metadata": {},
   "outputs": [],
   "source": [
    "#pos = rob_mod.joint_pos[-1]\n",
    "#rob_mod.compute_inverse(*pos)\n",
    "#rob_mod.draw_model()\n",
    "#print(rob_mod.motor_rotation)\n",
    "#print(rob_mod.joint_pos)\n",
    "#rob_mod.draw_model()"
   ]
  },
  {
   "cell_type": "code",
   "execution_count": null,
   "metadata": {},
   "outputs": [],
   "source": [
    "pos = 300,200,200\n",
    "rob_mod.compute_inverse(*pos)\n",
    "rob_mod.draw_model()\n",
    "print(rob_mod.motor_rotation)\n",
    "print(rob_mod.joint_pos)"
   ]
  },
  {
   "cell_type": "code",
   "execution_count": null,
   "metadata": {},
   "outputs": [],
   "source": [
    "det_to_input(260,250,110)"
   ]
  },
  {
   "cell_type": "code",
   "execution_count": null,
   "metadata": {},
   "outputs": [],
   "source": []
  }
 ],
 "metadata": {
  "kernelspec": {
   "display_name": "Python 3",
   "language": "python",
   "name": "python3"
  },
  "language_info": {
   "codemirror_mode": {
    "name": "ipython",
    "version": 3
   },
   "file_extension": ".py",
   "mimetype": "text/x-python",
   "name": "python",
   "nbconvert_exporter": "python",
   "pygments_lexer": "ipython3",
   "version": "3.7.6"
  }
 },
 "nbformat": 4,
 "nbformat_minor": 4
}
