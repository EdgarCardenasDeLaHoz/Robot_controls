{
 "cells": [
  {
   "cell_type": "code",
   "execution_count": 1,
   "metadata": {},
   "outputs": [],
   "source": [
    "%matplotlib qt"
   ]
  },
  {
   "cell_type": "code",
   "execution_count": 2,
   "metadata": {},
   "outputs": [],
   "source": [
    "from camera_tools import *\n",
    "from retna.networks import *\n",
    "from retna.training import *\n",
    "from retna.data_loader import *\n",
    "from retna.view import *"
   ]
  },
  {
   "cell_type": "code",
   "execution_count": 3,
   "metadata": {
    "scrolled": true
   },
   "outputs": [],
   "source": [
    "%load_ext autoreload\n",
    "%autoreload 2"
   ]
  },
  {
   "cell_type": "markdown",
   "metadata": {},
   "source": [
    "run_camera(3)"
   ]
  },
  {
   "cell_type": "code",
   "execution_count": 21,
   "metadata": {},
   "outputs": [],
   "source": [
    "run_camera(2)"
   ]
  },
  {
   "cell_type": "code",
   "execution_count": null,
   "metadata": {},
   "outputs": [],
   "source": [
    "run_2cameras(0,1)"
   ]
  },
  {
   "cell_type": "code",
   "execution_count": null,
   "metadata": {},
   "outputs": [],
   "source": [
    "red_blue('17_43_09.jpg')"
   ]
  },
  {
   "cell_type": "code",
   "execution_count": null,
   "metadata": {},
   "outputs": [],
   "source": [
    "testim = cv2.imread(\"./Test images/17_43_09.jpg\")"
   ]
  },
  {
   "cell_type": "code",
   "execution_count": null,
   "metadata": {},
   "outputs": [],
   "source": [
    "base_picture(testim)"
   ]
  },
  {
   "cell_type": "code",
   "execution_count": null,
   "metadata": {},
   "outputs": [],
   "source": [
    "base_picture('17_43_09.jpg')"
   ]
  },
  {
   "cell_type": "code",
   "execution_count": null,
   "metadata": {},
   "outputs": [],
   "source": [
    "pix_to_real(144.8389,345.2546)"
   ]
  },
  {
   "cell_type": "code",
   "execution_count": null,
   "metadata": {},
   "outputs": [],
   "source": [
    "draw_dots('17_43_09.jpg')"
   ]
  },
  {
   "cell_type": "code",
   "execution_count": null,
   "metadata": {},
   "outputs": [],
   "source": [
    "draw_lines('17_43_09.jpg')"
   ]
  },
  {
   "cell_type": "code",
   "execution_count": null,
   "metadata": {},
   "outputs": [],
   "source": [
    "centroids('10.jpg','10J.jpg')"
   ]
  },
  {
   "cell_type": "code",
   "execution_count": null,
   "metadata": {},
   "outputs": [],
   "source": [
    "pts_list = centroids('10.jpg','10J.jpg')\n",
    "red_pts_1 = pts_list[0]\n",
    "blue_pts_1 = pts_list[1]\n",
    "red_pts_2 = pts_list[2]\n",
    "blue_pts_2 = pts_list[3]\n",
    "\n",
    "r_red_pts_1 = pix_to_real(red_pts_1[0],red_pts_1[1])\n",
    "r_blue_pts_1 = pix_to_real(blue_pts_1[0],blue_pts_1[1])\n",
    "r_red_pts_2 = pix_to_real(red_pts_2[0],red_pts_2[1])\n",
    "r_blue_pts_2 = pix_to_real(blue_pts_2[0],blue_pts_2[1])\n",
    "\n",
    "Dxr = 320 - red_pts_2[0]\n",
    "Dxb = 320 - blue_pts_2[0]\n",
    "yr = 26 + 0.0545*Dxr\n",
    "yb = 26 + 0.0545*Dxb\n",
    "\n",
    "Dyr = 480 - red_pts_2[1]\n",
    "Dyb = 480 - blue_pts_2[1]\n",
    "xr = 0.0638*Dyr\n",
    "xb = 0.0638*Dyb\n",
    "\n",
    "Dzr = 480 - red_pts_1[1]\n",
    "Dzb = 480 - blue_pts_1[1]\n",
    "zr = 0.0426*Dzr\n",
    "zb = 0.0426*Dzb\n",
    "\n",
    "pts_plot_3D(xr,yr,zr,xb,yb,zb)"
   ]
  },
  {
   "cell_type": "code",
   "execution_count": null,
   "metadata": {
    "scrolled": true
   },
   "outputs": [],
   "source": [
    "find_plate('Test images','13_38_55.jpg')"
   ]
  },
  {
   "cell_type": "code",
   "execution_count": null,
   "metadata": {
    "scrolled": true
   },
   "outputs": [],
   "source": [
    "pipet('PIP1.jpg')\n"
   ]
  },
  {
   "cell_type": "code",
   "execution_count": null,
   "metadata": {},
   "outputs": [],
   "source": [
    "grey('Test images/Duo_camera_images/', 'greyscale/')"
   ]
  },
  {
   "cell_type": "code",
   "execution_count": null,
   "metadata": {
    "scrolled": true
   },
   "outputs": [],
   "source": [
    "folder = 'Test images/Robotarm noise'\n",
    "filename = \"32B.jpg\"\n",
    "img = cv2.imread(\"./\" + folder + \"/\" + filename)\n",
    "model = torch.load('.\\\\models\\\\robot_noise_2.pt',map_location=torch.device('cpu'))\n",
    "#plt.close('all')\n",
    "model.eval().to(\"cpu\")"
   ]
  },
  {
   "cell_type": "code",
   "execution_count": null,
   "metadata": {
    "scrolled": true
   },
   "outputs": [],
   "source": [
    "detect_robot(model,img)"
   ]
  },
  {
   "cell_type": "code",
   "execution_count": null,
   "metadata": {},
   "outputs": [],
   "source": [
    "folder = 'Test images/Robotarm noise'\n",
    "for filename in glob.iglob(folder + '**/*.jpg', recursive=True):\n",
    "    img = cv2.imread(filename)\n",
    "    detect_robot(model,img)"
   ]
  },
  {
   "cell_type": "code",
   "execution_count": null,
   "metadata": {},
   "outputs": [],
   "source": [
    "filename_top = \"41.jpg\"\n",
    "top = cv2.imread(\"./\" + folder + \"/\" + filename_top)\n",
    "filename_side = \"32B.jpg\"\n",
    "side = cv2.imread(\"./\" + folder + \"/\" + filename_side)\n",
    "x,y,z = recon_3D(model, side, top)\n",
    "print(x,y,z)"
   ]
  },
  {
   "cell_type": "code",
   "execution_count": null,
   "metadata": {},
   "outputs": [],
   "source": [
    "folder = 'Test images'\n",
    "img = im_or_fn(side)\n",
    "cv2.imshow(\"img\",img)"
   ]
  },
  {
   "cell_type": "code",
   "execution_count": null,
   "metadata": {},
   "outputs": [],
   "source": [
    "#Detection robot on video \n",
    "folder = 'Test videos'\n",
    "fn = \"1.avi\"\n",
    "fn1 = \"1B.avi\"\n",
    "det_rob_2vid(folder,fn,fn1,model)"
   ]
  },
  {
   "cell_type": "code",
   "execution_count": null,
   "metadata": {},
   "outputs": [],
   "source": [
    "folder = 'Test videos'\n",
    "fn = \"1.avi\"\n",
    "fn2 = \"1B.avi\"\n",
    "video_3D_plot(folder, fn, fn2,model,1)"
   ]
  },
  {
   "cell_type": "code",
   "execution_count": null,
   "metadata": {},
   "outputs": [],
   "source": [
    "folder = 'Test videos'\n",
    "vid_top = \"1.avi\"\n",
    "vid_side = \"1B.avi\"\n",
    "video_3D_plot(vid_top,vid_side,folder,model)"
   ]
  },
  {
   "cell_type": "code",
   "execution_count": null,
   "metadata": {},
   "outputs": [],
   "source": [
    "filename_top = \"10.jpg\"\n",
    "imtop = cv2.imread(\"./\" + folder + \"/\" + filename_top)\n",
    "filename_side = \"10B.jpg\"\n",
    "imside = cv2.imread(\"./\" + folder + \"/\" + filename_side)\n",
    "\n",
    "pts_side = detect_robot(model,imside)\n",
    "pts_top = detect_robot(model,imtop)\n",
    "\n",
    "xg,yg,zg,xb,yb,zb = find_3D_pts(pts_side,pts_top)\n",
    "\n",
    "pts_plot_3D(xg,yg,zg,xb,yb,zb)"
   ]
  },
  {
   "cell_type": "code",
   "execution_count": null,
   "metadata": {},
   "outputs": [],
   "source": [
    "det_rob_2vid_faster('Test videos', '3.avi', '3B.avi', model)"
   ]
  },
  {
   "cell_type": "code",
   "execution_count": null,
   "metadata": {},
   "outputs": [],
   "source": [
    "det_rob_2cam(0,1,model)"
   ]
  },
  {
   "cell_type": "code",
   "execution_count": null,
   "metadata": {},
   "outputs": [],
   "source": [
    "folder = 'Test images/Robotarm mouse'\n",
    "filename = \"1.jpg\"\n",
    "img = cv2.imread(\"./\" + folder + \"/\" + filename)\n",
    "model = torch.load('.\\\\models\\\\robot_mouse_2.pt',map_location=torch.device('cpu'))\n",
    "#plt.close('all')\n",
    "model.eval().to(\"cpu\")"
   ]
  },
  {
   "cell_type": "code",
   "execution_count": null,
   "metadata": {},
   "outputs": [],
   "source": [
    "folder = 'Test images/Robotarm mouse'\n",
    "filename = \"21B.jpg\"\n",
    "img = cv2.imread(\"./\" + folder + \"/\" + filename)"
   ]
  },
  {
   "cell_type": "code",
   "execution_count": null,
   "metadata": {},
   "outputs": [],
   "source": [
    "detect_mouse(img,model)"
   ]
  },
  {
   "cell_type": "code",
   "execution_count": null,
   "metadata": {},
   "outputs": [],
   "source": [
    "detect_mouse_2im(1,model)"
   ]
  },
  {
   "cell_type": "code",
   "execution_count": null,
   "metadata": {},
   "outputs": [],
   "source": [
    "folder = 'Test videos/Robotarm mouse'\n",
    "fn = \"M1.mp4\"\n",
    "fn1 = \"M1B.mp4\"\n",
    "det_mouse_2vid(folder,fn,fn1,model)\n"
   ]
  },
  {
   "cell_type": "code",
   "execution_count": null,
   "metadata": {},
   "outputs": [],
   "source": [
    "det_mouse_2cam(0,1,model)"
   ]
  },
  {
   "cell_type": "code",
   "execution_count": null,
   "metadata": {},
   "outputs": [],
   "source": [
    "def det_to_input(x_det,y_det,z_det):\n",
    "    x = y_det\n",
    "    y = 400 - x_det\n",
    "    z = z_det\n",
    "    return x, y, z\n",
    "det_to_input(260,250,110)"
   ]
  },
  {
   "cell_type": "code",
   "execution_count": null,
   "metadata": {},
   "outputs": [],
   "source": [
    "folder = 'Test images'\n",
    "img = \"YellowMarks.jpg\"\n",
    "img = cv2.imread(\"./\" + folder + \"/\" + img)\n",
    "#img = img[...,::-1]\n",
    "cv2.imshow('img',img)\n",
    "yellow = img[...,[1,2]].mean(axis=2) - img[...,0]\n",
    "yellow = yellow > 50\n",
    "plt.imshow(yellow)\n",
    "label_img = label(yellow)\n",
    "regions = regionprops(label_img)\n",
    "a0 = 0\n",
    "a1 = 0\n",
    "i = 0\n",
    "points = []\n",
    "for props in regions:\n",
    "    a = props.area\n",
    "    if a > 100:\n",
    "        y,x = props.centroid\n",
    "        point = x,y\n",
    "        points.append(point)\n",
    "l = len(points)\n",
    "for i in range(0,l):\n",
    "    x,y = points[i]\n",
    "    Dxg = 320 - x\n",
    "    y = 26 + 0.0545*Dxg\n",
    "\n",
    "    Dyg = 480 - y\n",
    "    x = 0.0638*Dyg + 20\n",
    "    print(x,y)\n",
    "    x,y,z = det_to_input(x,y,0)\n",
    "    print(x,y)\n",
    "\n"
   ]
  },
  {
   "cell_type": "code",
   "execution_count": null,
   "metadata": {},
   "outputs": [],
   "source": [
    "hmodel = torch.load('.\\\\models\\\\hand.pt',map_location=torch.device('cpu'))\n",
    "folder = 'Test images/Hand'\n",
    "fn = \"16_26_58_None.jpg\"\n",
    "img = cv2.imread(\"./\" + folder + \"/\" + fn)\n",
    "cv2.imshow('img',img)"
   ]
  },
  {
   "cell_type": "code",
   "execution_count": null,
   "metadata": {},
   "outputs": [],
   "source": [
    "detect_hand(img,hmodel)"
   ]
  },
  {
   "cell_type": "code",
   "execution_count": null,
   "metadata": {},
   "outputs": [],
   "source": [
    "det_rob_2camh(0,1,model,hmodel)"
   ]
  }
 ],
 "metadata": {
  "kernelspec": {
   "display_name": "Python 3",
   "language": "python",
   "name": "python3"
  },
  "language_info": {
   "codemirror_mode": {
    "name": "ipython",
    "version": 3
   },
   "file_extension": ".py",
   "mimetype": "text/x-python",
   "name": "python",
   "nbconvert_exporter": "python",
   "pygments_lexer": "ipython3",
   "version": "3.8.3"
  }
 },
 "nbformat": 4,
 "nbformat_minor": 4
}
