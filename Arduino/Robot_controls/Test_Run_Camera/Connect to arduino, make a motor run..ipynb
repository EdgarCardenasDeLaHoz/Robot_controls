{
 "cells": [
  {
   "cell_type": "code",
   "execution_count": 7,
   "id": "195413f2",
   "metadata": {},
   "outputs": [],
   "source": [
    "import serial\n",
    "import serial.tools.list_ports as port_list"
   ]
  },
  {
   "cell_type": "code",
   "execution_count": 8,
   "id": "4277a526",
   "metadata": {},
   "outputs": [],
   "source": [
    " all_ports = list(port_list.comports())"
   ]
  },
  {
   "cell_type": "code",
   "execution_count": 9,
   "id": "3e6fa52c",
   "metadata": {},
   "outputs": [
    {
     "name": "stdout",
     "output_type": "stream",
     "text": [
      "/dev/ttyACM1 - ttyACM1\n"
     ]
    }
   ],
   "source": [
    "all_ports\n",
    "[print(p) for p in all_ports]\n",
    "ard = serial.Serial(all_ports[0].device, 9600, timeout=0.1)"
   ]
  },
  {
   "cell_type": "code",
   "execution_count": 19,
   "id": "7bb5175b",
   "metadata": {},
   "outputs": [
    {
     "data": {
      "text/plain": [
       "10"
      ]
     },
     "execution_count": 19,
     "metadata": {},
     "output_type": "execute_result"
    }
   ],
   "source": [
    "cmd = bytearray(\"Start \"+str(6)+\" \"+str(2)+ \"\\r\", \"utf8\")\n",
    "ard.write(cmd)"
   ]
  }
 ],
 "metadata": {
  "kernelspec": {
   "display_name": "Python 3",
   "language": "python",
   "name": "python3"
  },
  "language_info": {
   "codemirror_mode": {
    "name": "ipython",
    "version": 3
   },
   "file_extension": ".py",
   "mimetype": "text/x-python",
   "name": "python",
   "nbconvert_exporter": "python",
   "pygments_lexer": "ipython3",
   "version": "3.8.8"
  }
 },
 "nbformat": 4,
 "nbformat_minor": 5
}
