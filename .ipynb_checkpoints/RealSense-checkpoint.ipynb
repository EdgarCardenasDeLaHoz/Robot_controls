{
 "cells": [
  {
   "cell_type": "code",
   "execution_count": 12,
   "metadata": {},
   "outputs": [],
   "source": [
    "import cv2 \n",
    "import matplotlib.pyplot as plt\n",
    "import numpy as np\n",
    "%matplotlib qt\n",
    "import pyrealsense2 as rs\n",
    "\n",
    "import serial\n",
    "import time\n",
    "import serial.tools.list_ports as port_list\n",
    "\n",
    "from datetime import datetime"
   ]
  },
  {
   "cell_type": "code",
   "execution_count": 13,
   "metadata": {},
   "outputs": [
    {
     "name": "stdout",
     "output_type": "stream",
     "text": [
      "The line_profiler extension is already loaded. To reload it, use:\n",
      "  %reload_ext line_profiler\n"
     ]
    }
   ],
   "source": [
    "%load_ext line_profiler\n",
    "\n"
   ]
  },
  {
   "cell_type": "code",
   "execution_count": 14,
   "metadata": {},
   "outputs": [],
   "source": [
    "import functools"
   ]
  },
  {
   "cell_type": "code",
   "execution_count": 15,
   "metadata": {},
   "outputs": [],
   "source": [
    "class CameraControl():\n",
    "        \n",
    "    def __init__(self, out_path=\".//videos//\"):\n",
    "        \n",
    "        try:\n",
    "            ard = serial.Serial('COM5',9600,timeout=0.1) \n",
    "        except:\n",
    "            ard = None\n",
    "                    \n",
    "        self.pipe = rs.pipeline()\n",
    "        self.profile = self.pipe.start()\n",
    "        self.arduino = ard\n",
    "        self.step = 50\n",
    "        self.camera = \"color\"\n",
    "        self.on = True  \n",
    "        self.is_recording = False\n",
    "        self.video_handle = None\n",
    "        self.out_path = out_path\n",
    "        self.command_queue = []\n",
    "        self.arduino_busy = False\n",
    "        \n",
    "    def execute_commands(self):\n",
    "        \n",
    "        response = self.arduino.readline()\n",
    "         \n",
    "        if response == b'Ready\\r\\n':\n",
    "            self.arduino_busy = False\n",
    "        \n",
    "        if not self.arduino_busy:\n",
    "            \n",
    "            if len(self.command_queue)==0: \n",
    "                return \n",
    "            \n",
    "            if self.arduino_busy:\n",
    "                return \n",
    "            \n",
    "            print(\"command in queue found\")\n",
    "            cmd = self.command_queue.pop(0)\n",
    "            cmd()\n",
    "    \n",
    "    def get_image(self):\n",
    "   \n",
    "        frames = self.pipe.wait_for_frames()   \n",
    "        if self.camera is \"color\":\n",
    "            frame = frames.get_color_frame()\n",
    "            image = np.asanyarray(frame.get_data())\n",
    "        elif self.camera is \"depth\":\n",
    "            frame = frames.get_depth_frame()\n",
    "            image = np.asanyarray(frame.get_data())\n",
    "            image = image.clip(0,500)/500*255\n",
    "            image = image.astype(np.uint8)\n",
    "            \n",
    "        \"\"\"\n",
    "        elif self.camera is \"fish\":\n",
    "            frame = frames.get_fisheye_frame().as_frame()\n",
    "            image = np.asanyarray(frame.get_data())\n",
    "        elif self.camera is \"infra\":\n",
    "            frame = frames.get_infrared_frame()\n",
    "            image = np.asanyarray(frame[0].get_data())\n",
    "        elif self.camera is \"pose\":\n",
    "            frame = frames.get_pose_frame()\n",
    "            image = np.asanyarray(frame.get_data())\n",
    "        \"\"\"\n",
    "        \n",
    "        #aligned_frames = align.process(frames)\n",
    "        #image = aligned_frames.get_color_frame().as_frame()\n",
    "        #np_image = np.asanyarray(image.get_data())\n",
    "        return image\n",
    "\n",
    "    def on_key(self,key):\n",
    "\n",
    "        if key == ord('q'):\n",
    "            self.on = False\n",
    "            \n",
    "        if key == ord(\"c\"):\n",
    "            self.camera = \"color\"\n",
    "        if key == ord(\"d\"):\n",
    "            self.camera = \"depth\"\n",
    "        if key == ord(\"h\"):\n",
    "            self.move(100)\n",
    "            \n",
    "        if key == ord(\"s\"):\n",
    "            self.toggle_recording()\n",
    "            \n",
    "        if key == ord(\"p\"):\n",
    "            self.scan()\n",
    "            \n",
    "        elif key == 2424832: ##left\n",
    "            self.move(n_step=1)\n",
    "\n",
    "        elif key == 2555904: ##Right\n",
    "            self.move(n_step=-1)\n",
    "\n",
    "        elif key == 2490368: ##up\n",
    "            step = self.step\n",
    "            step = np.min((step+10,50))\n",
    "            print(\"step_size:\"+str(step))\n",
    "            self.step = step\n",
    "\n",
    "        elif key == 2621440: ##Down\n",
    "            step = self.step\n",
    "            step = np.max((step-10,10))\n",
    "            print(\"step_size:\"+str(step))\n",
    "            self.step = step\n",
    "            \n",
    "    def move(self, distance=None, n_step=1, ):\n",
    "        \n",
    "        if distance is None:\n",
    "            step = self.step\n",
    "            d = str(n_step*step)\n",
    "        else: \n",
    "            d = str(distance)\n",
    "            \n",
    "        print(\"moving...\" + d)\n",
    "        cmd = bytearray(\"M \"+ d+ \"\\r\", \"utf8\")\n",
    "        self.arduino.write(cmd)\n",
    "        self.arduino_busy = True\n",
    "            \n",
    "    def toggle_recording(self):\n",
    "        if self.video_handle is None:\n",
    "            fr_sz = (640,480)\n",
    "            timestr = datetime.now().strftime(\"%Y%m%d_%H%M%S\")\n",
    "            vid_fn = self.out_path + timestr + \".mp4\"\n",
    "            \n",
    "            fourcc = cv2.VideoWriter_fourcc(*'XVID')\n",
    "            vh = cv2.VideoWriter(vid_fn ,fourcc, 10, fr_sz)\n",
    "                        \n",
    "            self.video_handle = vh\n",
    "            self.is_recording = True\n",
    "            print(\"recording video...\")            \n",
    "\n",
    "        else:\n",
    "            self.video_handle.release()\n",
    "            self.video_handle = None \n",
    "            self.is_recording = False  \n",
    "            print(\"video stopped...\")\n",
    "            \n",
    "    def record_frame(self,frame):\n",
    "        \n",
    "        if self.is_recording and self.video_handle is not None:          \n",
    "            self.video_handle.write(frame[...,::-1])\n",
    "            \n",
    "            \n",
    "    def close(self):\n",
    "        print(\"closing\")\n",
    "        cv2.destroyAllWindows()\n",
    "        cam.pipe.stop()\n",
    "    \n",
    "        if cam.arduino is not None:\n",
    "            cam.arduino.close()\n",
    "        if cam.video_handle is not None:\n",
    "            self.toggle_recording()\n",
    "            \n",
    "    def scan(self):\n",
    "        cmd = functools.partial(self.toggle_recording)\n",
    "        self.command_queue.append(cmd)\n",
    "        \n",
    "        cmd = functools.partial(self.move, distance=100)\n",
    "        self.command_queue.append(cmd)\n",
    "        \n",
    "        cmd = functools.partial(self.move, distance=-100)\n",
    "        self.command_queue.append(cmd)\n",
    "        \n",
    "        cmd = functools.partial(self.toggle_recording)\n",
    "        self.command_queue.append(cmd)\n",
    "        "
   ]
  },
  {
   "cell_type": "code",
   "execution_count": null,
   "metadata": {},
   "outputs": [],
   "source": []
  },
  {
   "cell_type": "code",
   "execution_count": null,
   "metadata": {},
   "outputs": [
    {
     "name": "stdout",
     "output_type": "stream",
     "text": [
      "moving...-50\n",
      "moving...50\n",
      "moving...50\n",
      "recording video...\n",
      "video stopped...\n",
      "recording video...\n",
      "video stopped...\n",
      "recording video...\n",
      "video stopped...\n",
      "recording video...\n",
      "video stopped...\n",
      "recording video...\n"
     ]
    }
   ],
   "source": [
    "import pyrealsense2 as rs\n",
    "\n",
    "#try:\n",
    "cam = CameraControl()\n",
    "\n",
    "try:\n",
    "    \n",
    "    cv2.namedWindow(\"frame\",cv2.WINDOW_NORMAL)\n",
    "    cv2.resizeWindow(\"frame\", 2000,2000)\n",
    "    cv2.moveWindow(\"frame\", 500, 20)\n",
    "    \n",
    "    while(cam.on):\n",
    "        im = cam.get_image()\n",
    "        cv2.imshow('frame',im[...,::-1])\n",
    "        \n",
    "        cam.record_frame(im)\n",
    "        key = cv2.waitKeyEx(1)\n",
    "        if key>0:\n",
    "            cam.on_key(key) \n",
    "        cam.execute_commands()\n",
    "    print(\"done\") \n",
    "\n",
    "finally:\n",
    "\n",
    "    cam.close()"
   ]
  },
  {
   "cell_type": "code",
   "execution_count": 6,
   "metadata": {},
   "outputs": [],
   "source": [
    "import serial\n",
    "import time\n",
    "import serial.tools.list_ports as port_list"
   ]
  },
  {
   "cell_type": "code",
   "execution_count": null,
   "metadata": {},
   "outputs": [],
   "source": []
  },
  {
   "cell_type": "code",
   "execution_count": 8,
   "metadata": {},
   "outputs": [],
   "source": [
    "aligned_frames = align.process(frames)"
   ]
  },
  {
   "cell_type": "code",
   "execution_count": 9,
   "metadata": {},
   "outputs": [],
   "source": [
    "depth = aligned_frames.get_depth_frame().as_frame()\n",
    "np_depth = np.asanyarray(depth.get_data())"
   ]
  },
  {
   "cell_type": "code",
   "execution_count": 10,
   "metadata": {},
   "outputs": [],
   "source": [
    "image = aligned_frames.get_color_frame().as_frame()\n",
    "np_image = np.asanyarray(image.get_data())"
   ]
  },
  {
   "cell_type": "code",
   "execution_count": null,
   "metadata": {},
   "outputs": [],
   "source": []
  },
  {
   "cell_type": "code",
   "execution_count": 204,
   "metadata": {},
   "outputs": [],
   "source": [
    "%matplotlib qt"
   ]
  },
  {
   "cell_type": "code",
   "execution_count": 33,
   "metadata": {},
   "outputs": [
    {
     "name": "stdout",
     "output_type": "stream",
     "text": [
      "COM3 - Standard Serial over Bluetooth link (COM3)\n",
      "COM4 - Standard Serial over Bluetooth link (COM4)\n",
      "COM5 - Arduino Uno (COM5)\n"
     ]
    }
   ],
   "source": [
    "\n",
    "ports = list(port_list.comports())\n",
    "for p in ports:\n",
    "    print (p)"
   ]
  },
  {
   "cell_type": "code",
   "execution_count": 22,
   "metadata": {},
   "outputs": [
    {
     "name": "stdout",
     "output_type": "stream",
     "text": [
      "b'Ready\\r\\n'\n",
      "b'mm\\r\\n'\n"
     ]
    }
   ],
   "source": [
    "\n",
    "arduino = serial.Serial('COM5',9600)\n",
    "\n",
    "time.sleep(2)\n",
    "print(arduino.readline())\n",
    "arduino.write(b\"V -30\\r\")\n",
    "arduino.write(b\"F -10\\r\")\n",
    "time.sleep(2)\n",
    "arduino.write(b\"V 50\\r\")\n",
    "print(arduino.readline())\n",
    "arduino.write(b\"F 10\\r\")\n",
    "time.sleep(2)\n",
    "arduino.write(b\"V 20\\r\")\n",
    "arduino.write(b\"F -10\\r\")\n",
    "\n",
    "time.sleep(2)\n",
    "arduino.write(b\"V 20\\r\")\n",
    "arduino.write(b\"F 10\\r\")\n",
    "\n",
    "arduino.close()"
   ]
  },
  {
   "cell_type": "code",
   "execution_count": 91,
   "metadata": {},
   "outputs": [
    {
     "name": "stdout",
     "output_type": "stream",
     "text": [
      "b'Ready\\r\\n'\n",
      "b''\n",
      "b'moving 50.00mm\\r\\n'\n",
      "b'Waiting\\r\\n'\n",
      "b'Waiting\\r\\n'\n",
      "b'Waiting\\r\\n'\n",
      "b'Waiting\\r\\n'\n"
     ]
    }
   ],
   "source": [
    "arduino = serial.Serial('COM5',9600, timeout=0.1)\n",
    "\n",
    "time.sleep(2)\n",
    "print(arduino.readline())\n",
    "arduino.write(b\"V 1000\\r\")\n",
    "print(arduino.readline())\n",
    "arduino.write(b\"M 50\\r\")\n",
    "print(arduino.readline())\n",
    "print(arduino.readline())\n",
    "arduino.write(b\"M -50\\r\")\n",
    "print(arduino.readline())\n",
    "print(arduino.readline())\n",
    "arduino.write(b\"M 50\\r\")\n",
    "print(arduino.readline())\n",
    "arduino.close()"
   ]
  },
  {
   "cell_type": "code",
   "execution_count": 17,
   "metadata": {},
   "outputs": [
    {
     "name": "stdout",
     "output_type": "stream",
     "text": [
      "b''\n"
     ]
    }
   ],
   "source": [
    "print(arduino.readline())"
   ]
  },
  {
   "cell_type": "code",
   "execution_count": 15,
   "metadata": {},
   "outputs": [
    {
     "ename": "NameError",
     "evalue": "name 'arduino' is not defined",
     "output_type": "error",
     "traceback": [
      "\u001b[1;31m---------------------------------------------------------------------------\u001b[0m",
      "\u001b[1;31mNameError\u001b[0m                                 Traceback (most recent call last)",
      "\u001b[1;32m<ipython-input-15-9331bc397856>\u001b[0m in \u001b[0;36m<module>\u001b[1;34m\u001b[0m\n\u001b[1;32m----> 1\u001b[1;33m \u001b[0marduino\u001b[0m\u001b[1;33m.\u001b[0m\u001b[0mclose\u001b[0m\u001b[1;33m(\u001b[0m\u001b[1;33m)\u001b[0m\u001b[1;33m\u001b[0m\u001b[1;33m\u001b[0m\u001b[0m\n\u001b[0m",
      "\u001b[1;31mNameError\u001b[0m: name 'arduino' is not defined"
     ]
    }
   ],
   "source": [
    "arduino.close()"
   ]
  },
  {
   "cell_type": "code",
   "execution_count": null,
   "metadata": {},
   "outputs": [],
   "source": [
    "%lprun -f get_frame get_frame(pipe)"
   ]
  }
 ],
 "metadata": {
  "kernelspec": {
   "display_name": "Python 3",
   "language": "python",
   "name": "python3"
  },
  "language_info": {
   "codemirror_mode": {
    "name": "ipython",
    "version": 3
   },
   "file_extension": ".py",
   "mimetype": "text/x-python",
   "name": "python",
   "nbconvert_exporter": "python",
   "pygments_lexer": "ipython3",
   "version": "3.7.6"
  }
 },
 "nbformat": 4,
 "nbformat_minor": 4
}
