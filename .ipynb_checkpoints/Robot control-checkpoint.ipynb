{
 "cells": [
  {
   "cell_type": "code",
   "execution_count": 1,
   "metadata": {},
   "outputs": [],
   "source": [
    "#%load_ext line_profiler\n",
    "%load_ext autoreload\n",
    "%autoreload 2"
   ]
  },
  {
   "cell_type": "code",
   "execution_count": 2,
   "metadata": {},
   "outputs": [],
   "source": [
    "import numpy as np \n",
    "import serial\n",
    "import serial.tools.list_ports as port_list\n",
    "import matplotlib.pyplot as plt \n",
    "%matplotlib qt"
   ]
  },
  {
   "cell_type": "markdown",
   "metadata": {},
   "source": [
    "## Hanging Robot "
   ]
  },
  {
   "cell_type": "code",
   "execution_count": 3,
   "metadata": {},
   "outputs": [],
   "source": [
    "from robot_controls import * \n",
    "from Camera import *"
   ]
  },
  {
   "cell_type": "code",
   "execution_count": null,
   "metadata": {
    "scrolled": true
   },
   "outputs": [],
   "source": [
    "GUI = control_gui(\"Art\")"
   ]
  },
  {
   "cell_type": "code",
   "execution_count": null,
   "metadata": {
    "scrolled": true
   },
   "outputs": [],
   "source": []
  },
  {
   "cell_type": "code",
   "execution_count": null,
   "metadata": {},
   "outputs": [],
   "source": []
  },
  {
   "cell_type": "code",
   "execution_count": null,
   "metadata": {},
   "outputs": [],
   "source": [
    "GUI.motors.device.close()"
   ]
  },
  {
   "cell_type": "code",
   "execution_count": null,
   "metadata": {},
   "outputs": [],
   "source": [
    "GUI.motors.read_info()"
   ]
  },
  {
   "cell_type": "code",
   "execution_count": null,
   "metadata": {},
   "outputs": [],
   "source": [
    "GUI.run_commands(commands)"
   ]
  },
  {
   "cell_type": "markdown",
   "metadata": {},
   "source": [
    "## Running Commands"
   ]
  },
  {
   "cell_type": "code",
   "execution_count": null,
   "metadata": {},
   "outputs": [],
   "source": [
    "commands = []\n",
    "\n",
    "p0 = GUI.get_position()\n",
    "for i in range(100):\n",
    "    \n",
    "    p1 = p0 + np.array([0,0,50])*np.sin(np.pi*i/10)\n",
    "    p1 = p1 + np.array([30,0,0])*np.sin(np.pi*i/10)\n",
    "    p1 = p1 + np.array([0,30,0])*np.sin(np.pi*i/10)\n",
    "    \n",
    "    command = p1\n",
    "    commands.append(command)\n",
    "\n",
    "GUI.run_commands( commands )\n"
   ]
  },
  {
   "cell_type": "code",
   "execution_count": null,
   "metadata": {},
   "outputs": [],
   "source": [
    "#Commands from camera \n",
    "robot_model = torch.load('.\\\\models\\\\robot_noise_2.pt',map_location=torch.device('cpu'))\n",
    "mouse_model = torch.load('.\\\\models\\\\robot_mouse_2.pt',map_location=torch.device('cpu'))\n",
    "\n",
    "img = CameraConnection.getNextFrame()\n",
    "print(img)\n",
    "cv2.imshow('img',img)\n",
    "commands = []\n",
    "folder = 'Test images/Robotarm noise'\n",
    "filename_top = \"41.jpg\"\n",
    "top = cv2.imread(\"./\" + folder + \"/\" + filename_top)\n",
    "filename_side = \"32B.jpg\"\n",
    "side = cv2.imread(\"./\" + folder + \"/\" + filename_side)\n",
    "x,y,z = recon_3D(robot_model, side, top)\n",
    "p0 = GUI.get_position_camera(robot_model,side,top)\n",
    "print(p0)\n",
    "for i in range(100):\n",
    "    \n",
    "    p1 = p0 + np.array([0,0,50])*np.sin(np.pi*i/10)\n",
    "    p1 = p1 + np.array([30,0,0])*np.sin(np.pi*i/10)\n",
    "    p1 = p1 + np.array([0,30,0])*np.sin(np.pi*i/10)\n",
    "    \n",
    "    command = p1\n",
    "    commands.append(command)\n",
    "\n",
    "GUI.run_commands( commands )\n"
   ]
  },
  {
   "cell_type": "code",
   "execution_count": null,
   "metadata": {},
   "outputs": [],
   "source": [
    "GUI.command_queue"
   ]
  },
  {
   "cell_type": "markdown",
   "metadata": {},
   "source": [
    "## SCARA"
   ]
  },
  {
   "cell_type": "code",
   "execution_count": null,
   "metadata": {},
   "outputs": [],
   "source": [
    "#from robot_controls import * \n",
    "from Camera import *"
   ]
  },
  {
   "cell_type": "code",
   "execution_count": null,
   "metadata": {},
   "outputs": [],
   "source": [
    "rob = Scara()"
   ]
  },
  {
   "cell_type": "code",
   "execution_count": null,
   "metadata": {},
   "outputs": [],
   "source": []
  },
  {
   "cell_type": "code",
   "execution_count": null,
   "metadata": {},
   "outputs": [],
   "source": [
    "import os\n",
    "import numpy as np\n",
    "import cv2\n",
    "import time \n",
    "from datetime import datetime\n",
    "\n",
    "def record_video(cam_id=0, record=True, outdir=None ):\n",
    "    \n",
    "    cap = cv2.VideoCapture(cam_id)\n",
    "    fourcc = cv2.VideoWriter_fourcc(*'mp4v')\n",
    "    \n",
    "    if record:\n",
    "        \n",
    "        if outdir is None: outdir=\"..\\\\Camera_Out\\\\\"\n",
    "        if not os.path.exists(outdir):  os.makedirs(outdir )\n",
    "        timestr = datetime.now().strftime(\"%Y%m%d_%H%M%S\")\n",
    "        fn_out = outdir + \"\\\\\" + timestr + \".mp4\"\n",
    "        out = cv2.VideoWriter(fn_out,fourcc, 20.0, (640,480))\n",
    "        \n",
    "    else: out=None\n",
    "\n",
    "    while(cap.isOpened()):\n",
    "        ret, frame = cap.read()\n",
    "        if ret==True:\n",
    "            cv2.imshow('frame',frame)\n",
    "            if out is not None: out.write(frame)\n",
    "            if cv2.waitKey(1) & 0xFF == ord('q'): break\n",
    "        else: break\n",
    "\n",
    "    if out: out.release()\n",
    "    cap.release()\n",
    "    cv2.destroyAllWindows()\n",
    "    "
   ]
  },
  {
   "cell_type": "code",
   "execution_count": null,
   "metadata": {},
   "outputs": [],
   "source": [
    "record_video(cam_id=1)"
   ]
  },
  {
   "cell_type": "markdown",
   "metadata": {},
   "source": [
    "## Camera Controls"
   ]
  },
  {
   "cell_type": "code",
   "execution_count": null,
   "metadata": {},
   "outputs": [],
   "source": [
    "cam=Camera(0)"
   ]
  },
  {
   "cell_type": "markdown",
   "metadata": {},
   "source": [
    "## Testing"
   ]
  },
  {
   "cell_type": "code",
   "execution_count": null,
   "metadata": {},
   "outputs": [],
   "source": [
    "all_ports = list(port_list.comports())\n",
    "pos_ports = [p.device for p in all_ports  if \"Arduino\" in p.description]"
   ]
  },
  {
   "cell_type": "code",
   "execution_count": null,
   "metadata": {},
   "outputs": [],
   "source": [
    "[print(port) for port in all_ports ]"
   ]
  },
  {
   "cell_type": "code",
   "execution_count": null,
   "metadata": {},
   "outputs": [],
   "source": [
    "rob_mod.fig = None"
   ]
  },
  {
   "cell_type": "code",
   "execution_count": null,
   "metadata": {},
   "outputs": [],
   "source": [
    "\n",
    "rob_mod.motor_rotation = [0,0,0,135,60,60]\n",
    "rob_mod.compute_forward()\n",
    "print(rob_mod.motor_rotation)\n",
    "print(rob_mod.joint_pos)\n",
    "rob_mod.draw_model()"
   ]
  },
  {
   "cell_type": "code",
   "execution_count": null,
   "metadata": {},
   "outputs": [],
   "source": [
    "#pos = rob_mod.joint_pos[-1]\n",
    "#rob_mod.compute_inverse(*pos)\n",
    "#rob_mod.draw_model()\n",
    "#print(rob_mod.motor_rotation)\n",
    "#print(rob_mod.joint_pos)\n",
    "#rob_mod.draw_model()"
   ]
  },
  {
   "cell_type": "code",
   "execution_count": null,
   "metadata": {},
   "outputs": [],
   "source": [
    "pos = 300,200,200\n",
    "rob_mod.compute_inverse(*pos)\n",
    "rob_mod.draw_model()\n",
    "print(rob_mod.motor_rotation)\n",
    "print(rob_mod.joint_pos)"
   ]
  },
  {
   "cell_type": "code",
   "execution_count": null,
   "metadata": {},
   "outputs": [],
   "source": [
    "det_to_input(260,250,110)"
   ]
  },
  {
   "cell_type": "code",
   "execution_count": null,
   "metadata": {},
   "outputs": [],
   "source": []
  }
 ],
 "metadata": {
  "kernelspec": {
   "display_name": "Python 3",
   "language": "python",
   "name": "python3"
  },
  "language_info": {
   "codemirror_mode": {
    "name": "ipython",
    "version": 3
   },
   "file_extension": ".py",
   "mimetype": "text/x-python",
   "name": "python",
   "nbconvert_exporter": "python",
   "pygments_lexer": "ipython3",
   "version": "3.8.3"
  }
 },
 "nbformat": 4,
 "nbformat_minor": 4
}
